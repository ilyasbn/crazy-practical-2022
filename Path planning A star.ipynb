{
 "cells": [
  {
   "cell_type": "code",
   "execution_count": 10,
   "metadata": {
    "ExecuteTime": {
     "end_time": "2020-05-08T22:44:36.626294Z",
     "start_time": "2020-05-08T22:44:36.226549Z"
    }
   },
   "outputs": [],
   "source": [
    "import math\n",
    "import numpy as np\n",
    "import matplotlib.pyplot as plt\n",
    "from matplotlib import colors\n",
    "import time\n",
    "import sys\n",
    "import map\n",
    "\n",
    "%matplotlib inline"
   ]
  },
  {
   "cell_type": "markdown",
   "metadata": {},
   "source": [
    "## Helper Functions"
   ]
  },
  {
   "cell_type": "code",
   "execution_count": 11,
   "metadata": {
    "ExecuteTime": {
     "end_time": "2020-05-08T22:44:36.633781Z",
     "start_time": "2020-05-08T22:44:36.628020Z"
    }
   },
   "outputs": [
    {
     "name": "stdout",
     "output_type": "stream",
     "text": [
      "This variable is a <class 'numpy.ndarray'>\n",
      "\n",
      "\n",
      "The shape is (1,)\n",
      "\n",
      "\n",
      "The data contained in the variable is : \n",
      "[1]\n",
      "\n",
      "\n",
      "The elements that can be accessed in the variable are :\n",
      "\n",
      "['T', '__abs__', '__add__', '__and__', '__array__', '__array_finalize__', '__array_function__', '__array_interface__', '__array_prepare__', '__array_priority__', '__array_struct__', '__array_ufunc__', '__array_wrap__', '__bool__', '__class__', '__class_getitem__', '__complex__', '__contains__', '__copy__', '__deepcopy__', '__delattr__', '__delitem__', '__dir__', '__divmod__', '__dlpack__', '__dlpack_device__', '__doc__', '__eq__', '__float__', '__floordiv__', '__format__', '__ge__', '__getattribute__', '__getitem__', '__gt__', '__hash__', '__iadd__', '__iand__', '__ifloordiv__', '__ilshift__', '__imatmul__', '__imod__', '__imul__', '__index__', '__init__', '__init_subclass__', '__int__', '__invert__', '__ior__', '__ipow__', '__irshift__', '__isub__', '__iter__', '__itruediv__', '__ixor__', '__le__', '__len__', '__lshift__', '__lt__', '__matmul__', '__mod__', '__mul__', '__ne__', '__neg__', '__new__', '__or__', '__pos__', '__pow__', '__radd__', '__rand__', '__rdivmod__', '__reduce__', '__reduce_ex__', '__repr__', '__rfloordiv__', '__rlshift__', '__rmatmul__', '__rmod__', '__rmul__', '__ror__', '__rpow__', '__rrshift__', '__rshift__', '__rsub__', '__rtruediv__', '__rxor__', '__setattr__', '__setitem__', '__setstate__', '__sizeof__', '__str__', '__sub__', '__subclasshook__', '__truediv__', '__xor__', 'all', 'any', 'argmax', 'argmin', 'argpartition', 'argsort', 'astype', 'base', 'byteswap', 'choose', 'clip', 'compress', 'conj', 'conjugate', 'copy', 'ctypes', 'cumprod', 'cumsum', 'data', 'diagonal', 'dot', 'dtype', 'dump', 'dumps', 'fill', 'flags', 'flat', 'flatten', 'getfield', 'imag', 'item', 'itemset', 'itemsize', 'max', 'mean', 'min', 'nbytes', 'ndim', 'newbyteorder', 'nonzero', 'partition', 'prod', 'ptp', 'put', 'ravel', 'real', 'repeat', 'reshape', 'resize', 'round', 'searchsorted', 'setfield', 'setflags', 'shape', 'size', 'sort', 'squeeze', 'std', 'strides', 'sum', 'swapaxes', 'take', 'tobytes', 'tofile', 'tolist', 'tostring', 'trace', 'transpose', 'var', 'view']\n"
     ]
    }
   ],
   "source": [
    "def variable_info(variable):\n",
    "    \"\"\"\n",
    "    Provided a variable, prints the type and content of the variable\n",
    "    \"\"\"\n",
    "    print(\"This variable is a {}\".format(type(variable)))\n",
    "    if type(variable) == np.ndarray:\n",
    "        print(\"\\n\\nThe shape is {}\".format(variable.shape))\n",
    "    print(\"\\n\\nThe data contained in the variable is : \")\n",
    "    print(variable)\n",
    "    print(\"\\n\\nThe elements that can be accessed in the variable are :\\n\")\n",
    "    print(dir(variable))\n",
    "    \n",
    "variable_info(np.array([1]))"
   ]
  },
  {
   "cell_type": "markdown",
   "metadata": {},
   "source": [
    "## Map Initialisation\n",
    "\n",
    "Here is the function provided to create an empty plot of the size max_val with the grid lines in the desired positions. You do not need to understand the details of this function as it is purely related to the plotting."
   ]
  },
  {
   "cell_type": "code",
   "execution_count": 12,
   "metadata": {
    "ExecuteTime": {
     "end_time": "2020-05-08T22:44:36.642947Z",
     "start_time": "2020-05-08T22:44:36.637055Z"
    }
   },
   "outputs": [],
   "source": [
    "def create_empty_plot(max_val):\n",
    "    \"\"\"\n",
    "    Helper function to create a figure of the desired dimensions & grid\n",
    "    \n",
    "    :param max_val: dimension of the map along the x and y dimensions\n",
    "    :return: the fig and ax objects.\n",
    "    \"\"\"\n",
    "    fig, ax = plt.subplots(figsize=(7,7))\n",
    "    \n",
    "    major_ticks = np.arange(0, max_val+1, 5)\n",
    "    minor_ticks = np.arange(0, max_val+1, 1)\n",
    "    ax.set_xticks(major_ticks)\n",
    "    ax.set_xticks(minor_ticks, minor=True)\n",
    "    ax.set_yticks(major_ticks)\n",
    "    ax.set_yticks(minor_ticks, minor=True)\n",
    "    ax.grid(which='minor', alpha=0.2)\n",
    "    ax.grid(which='major', alpha=0.5)\n",
    "    ax.set_ylim([-1,max_val])\n",
    "    ax.set_xlim([-1,max_val])\n",
    "    ax.grid(True)\n",
    "    \n",
    "    return fig, ax"
   ]
  },
  {
   "cell_type": "code",
   "execution_count": 13,
   "metadata": {},
   "outputs": [],
   "source": [
    "def create_empty_plot_xy(max_val_x,max_val_y):\n",
    "    \"\"\"\n",
    "    Helper function to create a figure of the desired dimensions & grid\n",
    "    \n",
    "    :param max_val: dimension of the map along the x and y dimensions\n",
    "    :return: the fig and ax objects.\n",
    "    \"\"\"\n",
    "    fig, ax = plt.subplots(figsize=(7,7))\n",
    "    \n",
    "    major_ticks = np.arange(0, max_val_y+1, 5)\n",
    "    minor_ticks = np.arange(0, max_val_x+1, 1)\n",
    "    ax.set_xticks(major_ticks)\n",
    "    ax.set_xticks(minor_ticks, minor=True)\n",
    "    ax.set_yticks(major_ticks)\n",
    "    ax.set_yticks(minor_ticks, minor=True)\n",
    "    ax.grid(which='minor', alpha=0.2)\n",
    "    ax.grid(which='major', alpha=0.5)\n",
    "    ax.set_ylim([-1,max_val_y])\n",
    "    ax.set_xlim([-1,max_val_x])\n",
    "    ax.grid(True)\n",
    "    \n",
    "    return fig, ax"
   ]
  },
  {
   "cell_type": "markdown",
   "metadata": {},
   "source": [
    "To create the map on which we are going to apply the path planning algorithm, we are making use of :\n",
    "- a random generator that creates a map of size max_val x max_val (defined in the previous cell)\n",
    "- a random seed to ensure that the ouptut of the random generator is the same at each iteration\n",
    "- a threshold value which determines for each cell whether it is occupied (i.e. value set to 1) or free (i.e. value set to 0). \n",
    "\n",
    "You can play with these parameters to change the size of the map (map_size), density of the obstacles in the map (threshold) as well as their position (random seed). \n",
    "\n"
   ]
  },
  {
   "cell_type": "code",
   "execution_count": 14,
   "metadata": {
    "ExecuteTime": {
     "end_time": "2020-05-08T22:44:37.157435Z",
     "start_time": "2020-05-08T22:44:36.645612Z"
    }
   },
   "outputs": [
    {
     "data": {
      "image/png": "[encoded data removed]",
      "text/plain": [
       "<Figure size 504x504 with 1 Axes>"
      ]
     },
     "metadata": {
      "needs_background": "light"
     },
     "output_type": "display_data"
    }
   ],
   "source": [
    "#Creating the grid\n",
    "max_val = 50 # Size of the map\n",
    "\n",
    "fig, ax = create_empty_plot(max_val)\n",
    "\n",
    "# Creating the occupancy grid\n",
    "np.random.seed(0) # To guarantee the same outcome on all computers\n",
    "data = np.random.rand(max_val, max_val) * 20 # Create a grid of 50 x 50 random values\n",
    "cmap = colors.ListedColormap(['white', 'red']) # Select the colors with which to display obstacles and free cells\n",
    "\n",
    "# Converting the random values into occupied and free cells\n",
    "limit = 12 \n",
    "occupancy_grid = data.copy()\n",
    "occupancy_grid[data>limit] = 1\n",
    "occupancy_grid[data<=limit] = 0\n",
    "\n",
    "# Displaying the map\n",
    "ax.imshow(occupancy_grid.transpose(), cmap=cmap)\n",
    "plt.title(\"Map : free cells in white, occupied cells in red\");"
   ]
  },
  {
   "cell_type": "markdown",
   "metadata": {},
   "source": [
    "\n",
    "If you use the default values provided to construct the map, then the outcome of the A* algorithm that you should expect to obtain is the following (with the plotting functions already pre-implemented). \n",
    "\n",
    "\n",
    "<img src=\"Images/Astar_sol.png\" alt=\"Drawing\" style=\"width: 500px;\"/>\n",
    "\n",
    "- white cells : free cells\n",
    "- red cells : occupied cells\n",
    "- orange nodes : explored nodes\n",
    "- blue nodes : nodes corresponding to the optimal path\n",
    "- green circle : starting node\n",
    "- purple circle : target node\n"
   ]
  },
  {
   "cell_type": "markdown",
   "metadata": {},
   "source": [
    "## Implementing the Algorithm\n",
    "\n",
    "The following implementation of the A* algorithm is based on the pseudo-code provided here : https://en.wikipedia.org/wiki/A*_search_algorithm#Pseudocode\n",
    "\n",
    "Make sure that you understand the different steps of the algorithm before starting to implement it. You are free however to choose another pseudo-code that corresponds to the A* algorithm implementation if you feel more comfortable with it. "
   ]
  },
  {
   "cell_type": "markdown",
   "metadata": {},
   "source": [
    "The following functions provide the list of possible movements depending on whether you decide to have the algorithm work in a 4 connected or an 8 connected grid ([see here for a table recapitulating the difference](https://edoras.sdsu.edu/doc/matlab/toolbox/images/morph12.html)). You do not need to edit anything in these functions."
   ]
  },
  {
   "cell_type": "code",
   "execution_count": 15,
   "metadata": {
    "ExecuteTime": {
     "end_time": "2020-05-08T22:44:37.165072Z",
     "start_time": "2020-05-08T22:44:37.159207Z"
    }
   },
   "outputs": [],
   "source": [
    "def _get_movements_4n():\n",
    "    \"\"\"\n",
    "    Get all possible 4-connectivity movements (up, down, left right).\n",
    "    :return: list of movements with cost [(dx, dy, movement_cost)]\n",
    "    \"\"\"\n",
    "    return [(1, 0, 1.0),\n",
    "            (0, 1, 1.0),\n",
    "            (-1, 0, 1.0),\n",
    "            (0, -1, 1.0)]\n",
    "\n",
    "def _get_movements_8n():\n",
    "    \"\"\"\n",
    "    Get all possible 8-connectivity movements. Equivalent to get_movements_in_radius(1)\n",
    "    (up, down, left, right and the 4 diagonals).\n",
    "    :return: list of movements with cost [(dx, dy, movement_cost)]\n",
    "    \"\"\"\n",
    "    s2 = math.sqrt(2)\n",
    "    return [(1, 0, 1.0),\n",
    "            (0, 1, 1.0),\n",
    "            (-1, 0, 1.0),\n",
    "            (0, -1, 1.0),\n",
    "            (1, 1, s2),\n",
    "            (-1, 1, s2),\n",
    "            (-1, -1, s2),\n",
    "            (1, -1, s2)]"
   ]
  },
  {
   "cell_type": "markdown",
   "metadata": {},
   "source": [
    "Now you can implement the A* algorithm using either the pseudo-code provided and following the structure below or selecting another one."
   ]
  },
  {
   "cell_type": "code",
   "execution_count": 16,
   "metadata": {
    "ExecuteTime": {
     "end_time": "2020-05-08T22:44:37.183248Z",
     "start_time": "2020-05-08T22:44:37.167122Z"
    }
   },
   "outputs": [],
   "source": [
    "def reconstruct_path(cameFrom, current):\n",
    "    \"\"\"\n",
    "    Recurrently reconstructs the path from start node to the current node\n",
    "    :param cameFrom: map (dictionary) containing for each node n the node immediately \n",
    "                     preceding it on the cheapest path from start to n \n",
    "                     currently known.\n",
    "    :param current: current node (x, y)\n",
    "    :return: list of nodes from start to current node\n",
    "    \"\"\"\n",
    "    total_path = [current]\n",
    "    while current in cameFrom.keys():\n",
    "        # Add where the current node came from to the start of the list\n",
    "        total_path.insert(0, cameFrom[current]) \n",
    "        current=cameFrom[current]\n",
    "    return total_path\n",
    "\n",
    "def A_Star(start, goal, h, coords, occupancy_grid, movement_type, max_val_x, max_val_y):\n",
    "    \"\"\"\n",
    "    A* for 2D occupancy grid. Finds a path from start to goal.\n",
    "    h is the heuristic function. h(n) estimates the cost to reach goal from node n.\n",
    "    :param start: start node (x, y)\n",
    "    :param goal_m: goal node (x, y)\n",
    "    :param occupancy_grid: the grid map\n",
    "    :param movement: select between 4-connectivity ('4N') and 8-connectivity ('8N', default)\n",
    "    :return: a tuple that contains: (the resulting path in meters, the resulting path in data array indices)\n",
    "    \"\"\"\n",
    "    \n",
    "    # -----------------------------------------\n",
    "    # DO NOT EDIT THIS PORTION OF CODE\n",
    "    # -----------------------------------------\n",
    "    \n",
    "    # Check if the start and goal are within the boundaries of the map\n",
    "    '''for point in [start, goal]:\n",
    "        for coord in point:\n",
    "            assert coord>=0 and coord<max_val, \"start or end goal not contained in the map\" '''\n",
    "\n",
    "    assert start[0]>=0 and start[0]<max_val_x and start[1]>=0 and start[1]<max_val_y, \"start not contained in the map\"\n",
    "            \n",
    "    assert goal[0]>=0 and goal[0]<max_val_x and goal[1]>=0 and goal[1]<max_val_y, \"end goal not contained in the map\"        \n",
    "    \n",
    "    # check if start and goal nodes correspond to free spaces\n",
    "    if occupancy_grid[start[0], start[1]]:\n",
    "        raise Exception('Start node is not traversable')\n",
    "\n",
    "    if occupancy_grid[goal[0], goal[1]]:\n",
    "        raise Exception('Goal node is not traversable')\n",
    "    \n",
    "    # get the possible movements corresponding to the selected connectivity\n",
    "    if movement_type == '4N':\n",
    "        movements = _get_movements_4n()\n",
    "    elif movement_type == '8N':\n",
    "        movements = _get_movements_8n()\n",
    "    else:\n",
    "        raise ValueError('Unknown movement')\n",
    "    \n",
    "    # --------------------------------------------------------------------------------------------\n",
    "    # A* Algorithm implementation - feel free to change the structure / use another pseudo-code\n",
    "    # --------------------------------------------------------------------------------------------\n",
    "    \n",
    "    # The set of visited nodes that need to be (re-)expanded, i.e. for which the neighbors need to be explored\n",
    "    # Initially, only the start node is known.\n",
    "    openSet = [start]\n",
    "    \n",
    "    # The set of visited nodes that no longer need to be expanded.\n",
    "    closedSet = []\n",
    "\n",
    "    # For node n, cameFrom[n] is the node immediately preceding it on the cheapest path from start to n currently known.\n",
    "    cameFrom = dict()\n",
    "\n",
    "    # For node n, gScore[n] is the cost of the cheapest path from start to n currently known.\n",
    "    gScore = dict(zip(coords, [np.inf for x in range(len(coords))]))\n",
    "    gScore[start] = 0\n",
    "\n",
    "    # For node n, fScore[n] := gScore[n] + h(n). map with default value of Infinity\n",
    "    fScore = dict(zip(coords, [np.inf for x in range(len(coords))]))\n",
    "    fScore[start] = h[start]\n",
    "    #fScore[start] = h(start)\n",
    "    # while there are still elements to investigate\n",
    "    while openSet != []:\n",
    "        \n",
    "        #the node in openSet having the lowest fScore[] value\n",
    "        fScore_openSet = {key:val for (key,val) in fScore.items() if key in openSet}\n",
    "        current = min(fScore_openSet, key=fScore_openSet.get)\n",
    "        del fScore_openSet\n",
    "        \n",
    "        #If the goal is reached, reconstruct and return the obtained path\n",
    "        if current == goal:\n",
    "            return reconstruct_path(cameFrom, current), closedSet\n",
    "\n",
    "        openSet.remove(current)\n",
    "        closedSet.append(current)\n",
    "        \n",
    "        #for each neighbor of current:\n",
    "        for dx, dy, deltacost in movements:\n",
    "            \n",
    "            neighbor = (current[0]+dx, current[1]+dy)\n",
    "            \n",
    "            # if the node is not in the map, skip\n",
    "            #continue skip ce tour de boucle et commence le prochain\n",
    "            if (neighbor[0] >= occupancy_grid.shape[0]) or (neighbor[1] >= occupancy_grid.shape[1]) or (neighbor[0] < 0) or (neighbor[1] < 0):\n",
    "                continue\n",
    "            \n",
    "            # if the node is occupied or has already been visited, skip\n",
    "            if (occupancy_grid[neighbor[0], neighbor[1]]) or (neighbor in closedSet): \n",
    "                continue\n",
    "            # neighbor is in the map, not in a occupied block or already visited\n",
    "            \n",
    "            # d(current,neighbor) is the weight of the edge from current to neighbor\n",
    "            # tentative_gScore is the distance from start to the neighbor through current\n",
    "            tentative_gScore = gScore[current] + deltacost\n",
    "            # deltacost permet d aller de current vers neighbor?\n",
    "            if neighbor not in openSet:\n",
    "                openSet.append(neighbor)\n",
    "                \n",
    "            if tentative_gScore < gScore[neighbor]:\n",
    "                # This path to neighbor is better than any previous one. Record it!\n",
    "                cameFrom[neighbor] = current\n",
    "                gScore[neighbor] = tentative_gScore\n",
    "                 \n",
    "    # Open set is empty but goal was never reached\n",
    "    print(\"No path found to goal\")\n",
    "    return [], closedSet\n"
   ]
  },
  {
   "cell_type": "code",
   "execution_count": 17,
   "metadata": {},
   "outputs": [
    {
     "data": {
      "text/plain": [
       "'    for point in [start, goal]:\\n    for p in point:\\n        #p = int(p)\\n        #print(p)\\n        print(p<1)\\n        print(int(p[0]),int(p[1]))'"
      ]
     },
     "execution_count": 17,
     "metadata": {},
     "output_type": "execute_result"
    }
   ],
   "source": [
    "    start = (0,0)\n",
    "    goal = (10,10)\n",
    "    \n",
    "'''    for point in [start, goal]:\n",
    "        for p in point:\n",
    "            #p = int(p)\n",
    "            #print(p)\n",
    "            print(p<1)\n",
    "            print(int(p[0]),int(p[1]))'''\n",
    "#print(start[0])\n"
   ]
  },
  {
   "cell_type": "code",
   "execution_count": 19,
   "metadata": {
    "ExecuteTime": {
     "end_time": "2020-05-08T22:44:38.966544Z",
     "start_time": "2020-05-08T22:44:37.185492Z"
    }
   },
   "outputs": [
    {
     "name": "stdout",
     "output_type": "stream",
     "text": [
      "No path found to goal\n"
     ]
    },
    {
     "data": {
      "image/png": "[encoded data removed]",
      "text/plain": [
       "<Figure size 504x504 with 1 Axes>"
      ]
     },
     "metadata": {
      "needs_background": "light"
     },
     "output_type": "display_data"
    }
   ],
   "source": [
    "# Define the start and end goal\n",
    "start = (0,0)\n",
    "goal = (43,33)\n",
    "\n",
    "\n",
    "\n",
    "# -----------------------------------------\n",
    "# DO NOT EDIT THIS PORTION OF CODE - \n",
    "# EXECUTION AND PLOTTING OF THE ALGORITHM\n",
    "# -----------------------------------------\n",
    "    \n",
    "    \n",
    "# List of all coordinates in the grid\n",
    "x,y = np.mgrid[0:max_val:1, 0:max_val:1]\n",
    "pos = np.empty(x.shape + (2,))\n",
    "pos[:, :, 0] = x; pos[:, :, 1] = y\n",
    "pos = np.reshape(pos, (x.shape[0]*x.shape[1], 2))\n",
    "coords = list([(int(x[0]), int(x[1])) for x in pos])\n",
    "\n",
    "# Define the heuristic, here = distance to goal ignoring obstacles\n",
    "h = np.linalg.norm(pos - goal, axis=-1)\n",
    "h = dict(zip(coords, h))\n",
    "\n",
    "# Run the A* algorithm\n",
    "path, visitedNodes = A_Star(start, goal, h, coords, occupancy_grid, \"4N\", max_val,max_val)\n",
    "path = np.array(path).reshape(-1, 2).transpose()\n",
    "visitedNodes = np.array(visitedNodes).reshape(-1, 2).transpose()\n",
    "\n",
    "# Displaying the map\n",
    "fig_astar, ax_astar = create_empty_plot(max_val)\n",
    "ax_astar.imshow(occupancy_grid.transpose(), cmap=cmap)\n",
    "\n",
    "# Plot the best path found and the list of visited nodes\n",
    "ax_astar.scatter(visitedNodes[0], visitedNodes[1], marker=\"o\", color = 'orange');\n",
    "ax_astar.plot(path[0], path[1], marker=\"o\", color = 'blue');\n",
    "ax_astar.scatter(start[0], start[1], marker=\"o\", color = 'green', s=200);\n",
    "ax_astar.scatter(goal[0], goal[1], marker=\"o\", color = 'purple', s=200);"
   ]
  },
  {
   "cell_type": "markdown",
   "metadata": {},
   "source": [
    "<blockquote>\n",
    "\n",
    "<span style=\"color: #2980B9 ;\">\n",
    "    \n",
    "Note that the heursitic here was chosen to be the Euclidian distance between the starting point and the goal. The choice of heuristic guides the search and will determine the speed at which the local optimum is found. A bad heursitic, such as a Manhattan distance in an 8 connected grid will however prevent you from finding the optimal solution because it does not take diagonals into account. \n",
    "\n",
    "\n",
    "</blockquote>"
   ]
  },
  {
   "cell_type": "code",
   "execution_count": 20,
   "metadata": {},
   "outputs": [
    {
     "name": "stdout",
     "output_type": "stream",
     "text": [
      "[[10 10 10 10 10 10 10 10 10 10 11 12 13 14 15 16 17 18 19 20 21 22 23 24\n",
      "  25 26 27 28 29 30 31 31 32 33 34 35 36 37 38 39 40]\n",
      " [10 11 12 13 14 15 16 17 18 19 19 19 19 19 19 19 19 19 19 19 19 19 19 19\n",
      "  19 19 19 19 19 19 19 20 20 20 20 20 20 20 20 20 20]]\n"
     ]
    },
    {
     "data": {
      "image/png": "[encoded data removed]",
      "text/plain": [
       "<Figure size 504x504 with 1 Axes>"
      ]
     },
     "metadata": {
      "needs_background": "light"
     },
     "output_type": "display_data"
    }
   ],
   "source": [
    "# Define the start and end goal\n",
    "start = (10,10)\n",
    "goal = (40,20)\n",
    "\n",
    "max_val_x = 50\n",
    "max_val_y = 30\n",
    "occupancy_grid2 = np.zeros((50,30))\n",
    "occupancy_grid2[20,20] = 1\n",
    "occupancy_grid2[10,20] = 1\n",
    "occupancy_grid2[20,28] = 1\n",
    "occupancy_grid2[30,20] = 1\n",
    "occupancy_grid2[44,23] = 1\n",
    "# -----------------------------------------\n",
    "# DO NOT EDIT THIS PORTION OF CODE - \n",
    "# EXECUTION AND PLOTTING OF THE ALGORITHM\n",
    "# -----------------------------------------\n",
    "    \n",
    "    \n",
    "# List of all coordinates in the grid\n",
    "x,y = np.mgrid[0:max_val_x:1, 0:max_val_y:1]\n",
    "pos = np.empty(x.shape + (2,))\n",
    "pos[:, :, 0] = x; pos[:, :, 1] = y\n",
    "pos = np.reshape(pos, (x.shape[0]*x.shape[1], 2))\n",
    "\n",
    "\n",
    "# Define the heuristic, here = distance to goal ignoring obstacles\n",
    "h = np.linalg.norm(pos - goal, axis=-1)\n",
    "h = dict(zip(coords, h))\n",
    "\n",
    "# Run the A* algorithm\n",
    "path, visitedNodes = A_Star(start, goal, h, coords, occupancy_grid2, \"4N\",max_val_x,max_val_y)\n",
    "path = np.array(path).reshape(-1, 2).transpose()\n",
    "visitedNodes = np.array(visitedNodes).reshape(-1, 2).transpose()\n",
    "\n",
    "# Displaying the map\n",
    "fig_astar, ax_astar = create_empty_plot_xy(max_val_x,max_val_y)\n",
    "ax_astar.imshow(occupancy_grid2.transpose(), cmap=cmap)\n",
    "\n",
    "print(path)\n",
    "# Plot the best path found and the list of visited nodes\n",
    "ax_astar.scatter(visitedNodes[0], visitedNodes[1], marker=\"o\", color = 'orange');\n",
    "ax_astar.plot(path[0], path[1], marker=\"o\", color = 'blue');\n",
    "ax_astar.scatter(start[0], start[1], marker=\"o\", color = 'green', s=200);\n",
    "ax_astar.scatter(goal[0], goal[1], marker=\"o\", color = 'purple', s=200);"
   ]
  },
  {
   "cell_type": "code",
   "execution_count": 54,
   "metadata": {},
   "outputs": [
    {
     "name": "stdout",
     "output_type": "stream",
     "text": [
      "path [[10 10]\n",
      " [10 11]\n",
      " [10 12]\n",
      " [10 13]\n",
      " [10 14]\n",
      " [10 15]\n",
      " [10 16]\n",
      " [10 17]\n",
      " [10 18]\n",
      " [10 19]\n",
      " [11 19]\n",
      " [12 19]\n",
      " [13 19]\n",
      " [14 19]\n",
      " [15 19]\n",
      " [16 19]\n",
      " [17 19]\n",
      " [18 19]\n",
      " [19 19]\n",
      " [20 19]\n",
      " [21 19]\n",
      " [22 19]\n",
      " [23 19]\n",
      " [24 19]\n",
      " [25 19]\n",
      " [26 19]\n",
      " [27 19]\n",
      " [28 19]\n",
      " [29 19]\n",
      " [30 19]\n",
      " [31 19]\n",
      " [31 20]\n",
      " [32 20]\n",
      " [33 20]\n",
      " [34 20]\n",
      " [35 20]\n",
      " [36 20]\n",
      " [37 20]\n",
      " [38 20]\n",
      " [39 20]\n",
      " [40 20]]\n",
      "actual_pos [10 10] next_pos [10 11]\n",
      "[0 1]\n",
      "actual_pos [10 11] next_pos [10 12]\n",
      "[0 1]\n",
      "actual_pos [10 12] next_pos [10 13]\n",
      "[0 1]\n",
      "actual_pos [10 13] next_pos [10 14]\n",
      "[0 1]\n",
      "actual_pos [10 14] next_pos [10 15]\n",
      "[0 1]\n",
      "actual_pos [10 15] next_pos [10 16]\n",
      "[0 1]\n",
      "actual_pos [10 16] next_pos [10 17]\n",
      "[0 1]\n",
      "actual_pos [10 17] next_pos [10 18]\n",
      "[0 1]\n",
      "actual_pos [10 18] next_pos [10 19]\n",
      "[0 1]\n",
      "actual_pos [10 19] next_pos [11 19]\n",
      "[1 0]\n",
      "actual_pos [11 19] next_pos [12 19]\n",
      "[1 0]\n",
      "actual_pos [12 19] next_pos [13 19]\n",
      "[1 0]\n",
      "actual_pos [13 19] next_pos [14 19]\n",
      "[1 0]\n",
      "actual_pos [14 19] next_pos [15 19]\n",
      "[1 0]\n",
      "actual_pos [15 19] next_pos [16 19]\n",
      "[1 0]\n",
      "actual_pos [16 19] next_pos [17 19]\n",
      "[1 0]\n",
      "actual_pos [17 19] next_pos [18 19]\n",
      "[1 0]\n",
      "actual_pos [18 19] next_pos [19 19]\n",
      "[1 0]\n",
      "actual_pos [19 19] next_pos [20 19]\n",
      "[1 0]\n",
      "actual_pos [20 19] next_pos [21 19]\n",
      "[1 0]\n",
      "actual_pos [21 19] next_pos [22 19]\n",
      "[1 0]\n",
      "actual_pos [22 19] next_pos [23 19]\n",
      "[1 0]\n",
      "actual_pos [23 19] next_pos [24 19]\n",
      "[1 0]\n",
      "actual_pos [24 19] next_pos [25 19]\n",
      "[1 0]\n",
      "actual_pos [25 19] next_pos [26 19]\n",
      "[1 0]\n",
      "actual_pos [26 19] next_pos [27 19]\n",
      "[1 0]\n",
      "actual_pos [27 19] next_pos [28 19]\n",
      "[1 0]\n",
      "actual_pos [28 19] next_pos [29 19]\n",
      "[1 0]\n",
      "actual_pos [29 19] next_pos [30 19]\n",
      "[1 0]\n",
      "actual_pos [30 19] next_pos [31 19]\n",
      "[1 0]\n",
      "actual_pos [31 19] next_pos [31 20]\n",
      "[0 1]\n",
      "actual_pos [31 20] next_pos [32 20]\n",
      "[1 0]\n",
      "actual_pos [32 20] next_pos [33 20]\n",
      "[1 0]\n",
      "actual_pos [33 20] next_pos [34 20]\n",
      "[1 0]\n",
      "actual_pos [34 20] next_pos [35 20]\n",
      "[1 0]\n",
      "actual_pos [35 20] next_pos [36 20]\n",
      "[1 0]\n",
      "actual_pos [36 20] next_pos [37 20]\n",
      "[1 0]\n",
      "actual_pos [37 20] next_pos [38 20]\n",
      "[1 0]\n",
      "actual_pos [38 20] next_pos [39 20]\n",
      "[1 0]\n",
      "actual_pos [39 20] next_pos [40 20]\n",
      "[1 0]\n",
      "actual_pos [40 20] next_pos [40 20]\n",
      "[0 0]\n",
      "[0. 0. 0. 0. 0. 0. 0. 0. 0. 2. 2. 2. 2. 2. 2. 2. 2. 2. 2. 2. 2. 2. 2. 2.\n",
      " 2. 2. 2. 2. 2. 2. 0. 2. 2. 2. 2. 2. 2. 2. 2. 2. 0.]\n"
     ]
    }
   ],
   "source": [
    "# tranform path which is list of nodes to list of movements\n",
    "# list_mvt = 0 up, 1 down, 2 right, 3 left\n",
    "left =[-1., 0.]\n",
    "right =[1., 0.]\n",
    "up =[0., 1.]\n",
    "down =[0., -1.]\n",
    "'''for x in path:\n",
    "    print(x)'''\n",
    "list_mvt = np.zeros(nbr_positions)\n",
    "#print(path.shape)\n",
    "shape = path.shape\n",
    "nbr_positions = shape[1]\n",
    "#path = path.reshape((41,2))\n",
    "reshaped_path = path.transpose()\n",
    "#reshaped_path = path.reshape((shape[1],shape[0]))\n",
    "list_diff = np.zeros((shape[1],shape[0]))\n",
    "#print(path)\n",
    "'''for pos in reshaped_path:\n",
    "    print(pos)'''\n",
    "print('path',reshaped_path)\n",
    "for idx_pos in range(nbr_positions):\n",
    "    actual_pos = reshaped_path [idx_pos]\n",
    "    next_pos = reshaped_path [min(nbr_positions-1,idx_pos+1)]\n",
    "    print('actual_pos', actual_pos,'next_pos',next_pos)\n",
    "    diff = next_pos-actual_pos\n",
    "    list_diff[idx_pos]=diff\n",
    "    print(diff)\n",
    "    \n",
    "    if np.array_equiv(diff,up):\n",
    "        list_mvt[idx_pos] = 0  \n",
    "    if np.array_equiv(diff,down):\n",
    "        list_mvt[idx_pos] = 1    \n",
    "    if np.array_equiv(diff,right):\n",
    "        list_mvt[idx_pos] = 2    \n",
    "    if np.array_equiv(diff,left):\n",
    "        list_mvt[idx_pos] = 3\n",
    "print(list_mvt)\n",
    "    # call fct which mvt\n",
    "    #print(actual_pos)\n",
    "    "
   ]
  },
  {
   "cell_type": "code",
   "execution_count": 21,
   "metadata": {},
   "outputs": [
    {
     "data": {
      "text/plain": [
       "'# Define the start and end goal\\nstart = (10,10)\\ngoal = (40,20)\\n\\nmax_val_x = 50\\nmax_val_y = 30\\noccupancy_grid2 = np.zeros((50,30))\\noccupancy_grid2 = \\n# -----------------------------------------\\n# DO NOT EDIT THIS PORTION OF CODE - \\n# EXECUTION AND PLOTTING OF THE ALGORITHM\\n# -----------------------------------------\\n    \\n    \\n# List of all coordinates in the grid\\nx,y = np.mgrid[0:max_val_x:1, 0:max_val_y:1]\\npos = np.empty(x.shape + (2,))\\npos[:, :, 0] = x; pos[:, :, 1] = y\\npos = np.reshape(pos, (x.shape[0]*x.shape[1], 2))\\n\\n\\n# Define the heuristic, here = distance to goal ignoring obstacles\\nh = np.linalg.norm(pos - goal, axis=-1)\\nh = dict(zip(coords, h))\\n\\n# Run the A* algorithm\\npath, visitedNodes = A_Star(start, goal, h, coords, occupancy_grid2, \"4N\",max_val_x,max_val_y)\\npath = np.array(path).reshape(-1, 2).transpose()\\nvisitedNodes = np.array(visitedNodes).reshape(-1, 2).transpose()\\n\\n# Displaying the map\\nfig_astar, ax_astar = create_empty_plot_xy(max_val_x,max_val_y)\\nax_astar.imshow(occupancy_grid2.transpose(), cmap=cmap)\\n\\nprint(path)\\n\\n# Plot the best path found and the list of visited nodes\\nax_astar.scatter(visitedNodes[0], visitedNodes[1], marker=\"o\", color = \\'orange\\');\\nax_astar.plot(path[0], path[1], marker=\"o\", color = \\'blue\\');\\nax_astar.scatter(start[0], start[1], marker=\"o\", color = \\'green\\', s=200);\\nax_astar.scatter(goal[0], goal[1], marker=\"o\", color = \\'purple\\', s=200);'"
      ]
     },
     "execution_count": 21,
     "metadata": {},
     "output_type": "execute_result"
    }
   ],
   "source": [
    "'''# Define the start and end goal\n",
    "start = (10,10)\n",
    "goal = (40,20)\n",
    "\n",
    "max_val_x = 50\n",
    "max_val_y = 30\n",
    "occupancy_grid2 = np.zeros((50,30))\n",
    "occupancy_grid2 = \n",
    "# -----------------------------------------\n",
    "# DO NOT EDIT THIS PORTION OF CODE - \n",
    "# EXECUTION AND PLOTTING OF THE ALGORITHM\n",
    "# -----------------------------------------\n",
    "    \n",
    "    \n",
    "# List of all coordinates in the grid\n",
    "x,y = np.mgrid[0:max_val_x:1, 0:max_val_y:1]\n",
    "pos = np.empty(x.shape + (2,))\n",
    "pos[:, :, 0] = x; pos[:, :, 1] = y\n",
    "pos = np.reshape(pos, (x.shape[0]*x.shape[1], 2))\n",
    "\n",
    "\n",
    "# Define the heuristic, here = distance to goal ignoring obstacles\n",
    "h = np.linalg.norm(pos - goal, axis=-1)\n",
    "h = dict(zip(coords, h))\n",
    "\n",
    "# Run the A* algorithm\n",
    "path, visitedNodes = A_Star(start, goal, h, coords, occupancy_grid2, \"4N\",max_val_x,max_val_y)\n",
    "path = np.array(path).reshape(-1, 2).transpose()\n",
    "visitedNodes = np.array(visitedNodes).reshape(-1, 2).transpose()\n",
    "\n",
    "# Displaying the map\n",
    "fig_astar, ax_astar = create_empty_plot_xy(max_val_x,max_val_y)\n",
    "ax_astar.imshow(occupancy_grid2.transpose(), cmap=cmap)\n",
    "\n",
    "print(path)\n",
    "\n",
    "# Plot the best path found and the list of visited nodes\n",
    "ax_astar.scatter(visitedNodes[0], visitedNodes[1], marker=\"o\", color = 'orange');\n",
    "ax_astar.plot(path[0], path[1], marker=\"o\", color = 'blue');\n",
    "ax_astar.scatter(start[0], start[1], marker=\"o\", color = 'green', s=200);\n",
    "ax_astar.scatter(goal[0], goal[1], marker=\"o\", color = 'purple', s=200);'''"
   ]
  },
  {
   "cell_type": "code",
   "execution_count": null,
   "metadata": {},
   "outputs": [],
   "source": []
  }
 ],
 "metadata": {
  "hide_input": false,
  "kernelspec": {
   "display_name": "Python 3 (ipykernel)",
   "language": "python",
   "name": "python3"
  },
  "language_info": {
   "codemirror_mode": {
    "name": "ipython",
    "version": 3
   },
   "file_extension": ".py",
   "mimetype": "text/x-python",
   "name": "python",
   "nbconvert_exporter": "python",
   "pygments_lexer": "ipython3",
   "version": "3.8.5"
  },
  "toc": {
   "base_numbering": 1,
   "nav_menu": {},
   "number_sections": true,
   "sideBar": true,
   "skip_h1_title": false,
   "title_cell": "Table of Contents",
   "title_sidebar": "Contents",
   "toc_cell": true,
   "toc_position": {},
   "toc_section_display": true,
   "toc_window_display": true
  }
 },
 "nbformat": 4,
 "nbformat_minor": 2
}
